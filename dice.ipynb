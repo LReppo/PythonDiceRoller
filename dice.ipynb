{
 "cells": [
  {
   "cell_type": "code",
   "execution_count": 10,
   "metadata": {},
   "outputs": [
    {
     "name": "stdout",
     "output_type": "stream",
     "text": [
      "Welcome to my rpg dice roller\n",
      "-----------------------------\n",
      "How many dice would you like to roll\n",
      "Die  1 :  3\n",
      "Die  2 :  2\n",
      "Die  3 :  4\n",
      "Die  4 :  2\n",
      "Die  5 :  1\n",
      "Die  6 :  2\n",
      "Die  7 :  1\n",
      "Total sum:  15\n",
      "Average roll:  2.142857142857143\n"
     ]
    }
   ],
   "source": [
    "# dice.py\n",
    "\n",
    "import random\n",
    "\n",
    "print(\"Welcome to my rpg dice roller\")\n",
    "print(\"-----------------------------\")\n",
    "\n",
    "print(\"How many dice would you like to roll\")\n",
    "\n",
    "while True:\n",
    "    try:\n",
    "        numberPicked = int(input(\"Type an integer between 1 and 10: \"))\n",
    "        if(numberPicked > 0 and numberPicked < 10):\n",
    "            break\n",
    "        else:\n",
    "            print(\"Invalid input. Try again. \")\n",
    "    except:\n",
    "        print(\"Please provide and interger. \")\n",
    "\n",
    "def rollDice(amountofDice):\n",
    "    totalSum = 0\n",
    "    possibleFaces = [1,2,3,4,5,6]\n",
    "    for die in range(amountofDice):\n",
    "        roll = random.choice(possibleFaces)\n",
    "        print(\"Die \", die + 1, \": \", roll)\n",
    "        totalSum += roll\n",
    "    average = totalSum / amountofDice\n",
    "    print (\"Total sum: \", totalSum)\n",
    "    print(\"Average roll: \", average)\n",
    "\n",
    "rollDice(numberPicked)"
   ]
  }
 ],
 "metadata": {
  "kernelspec": {
   "display_name": "Python 3.10.4 64-bit",
   "language": "python",
   "name": "python3"
  },
  "language_info": {
   "codemirror_mode": {
    "name": "ipython",
    "version": 3
   },
   "file_extension": ".py",
   "mimetype": "text/x-python",
   "name": "python",
   "nbconvert_exporter": "python",
   "pygments_lexer": "ipython3",
   "version": "3.10.4"
  },
  "orig_nbformat": 4,
  "vscode": {
   "interpreter": {
    "hash": "369f2c481f4da34e4445cda3fffd2e751bd1c4d706f27375911949ba6bb62e1c"
   }
  }
 },
 "nbformat": 4,
 "nbformat_minor": 2
}
